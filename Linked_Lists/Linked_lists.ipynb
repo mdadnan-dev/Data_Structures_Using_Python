{
 "cells": [
  {
   "cell_type": "code",
   "execution_count": null,
   "metadata": {},
   "outputs": [],
   "source": []
  },
  {
   "cell_type": "markdown",
   "metadata": {},
   "source": [
    "Singly Linked Lists"
   ]
  },
  {
   "cell_type": "code",
   "execution_count": 1,
   "metadata": {},
   "outputs": [],
   "source": [
    "class SinglyNode:\n",
    "\n",
    "    def __init__(self, value, next = None):   # We are creating a function \n",
    "        self.value = value                    # Value stores the values that we are adding in the lists\n",
    "        self.next = next                      # next stores the address of the next element in the lists\n",
    "    \n",
    "    def __str__(self):                      # Using this function we are returning the value in string format\n",
    "        return str(self.value)\n",
    "        "
   ]
  },
  {
   "cell_type": "code",
   "execution_count": 3,
   "metadata": {},
   "outputs": [],
   "source": [
    "Head = SinglyNode(1)\n",
    "A = SinglyNode(3)\n",
    "B = SinglyNode(5)\n",
    "C = SinglyNode(8)\n",
    "\n",
    "\n",
    "Head.next = A\n",
    "A.next = B\n",
    "B.next = C\n",
    "\n"
   ]
  },
  {
   "cell_type": "markdown",
   "metadata": {},
   "source": [
    "Traversing a list --> O(n)"
   ]
  },
  {
   "cell_type": "code",
   "execution_count": 4,
   "metadata": {},
   "outputs": [
    {
     "name": "stdout",
     "output_type": "stream",
     "text": [
      "1\n",
      "3\n",
      "5\n",
      "8\n"
     ]
    }
   ],
   "source": [
    "current_node = Head     # curr has the value [current_node = Head] --> So current_node = 1\n",
    "\n",
    "while current_node:     # While this is True [There is Value present inside curr]\n",
    "    print(current_node) # This prints the value 1 \n",
    "    current_node = current_node.next   # current_node = Head.next [as the value of current_node was Head]\n",
    "                                       # Head.next initializes to A\n",
    "                                       # current_node = A  ---> So current_node = 3\n",
    "                                       # And so on.. \n"
   ]
  },
  {
   "cell_type": "markdown",
   "metadata": {},
   "source": [
    "Displaying elements in a linked list --> O(n)"
   ]
  },
  {
   "cell_type": "code",
   "execution_count": 5,
   "metadata": {},
   "outputs": [
    {
     "name": "stdout",
     "output_type": "stream",
     "text": [
      "['1', '3', '5', '8']\n"
     ]
    }
   ],
   "source": [
    "def display(head):\n",
    "    current_node = Head\n",
    "    elements = []\n",
    "\n",
    "    while current_node:\n",
    "        elements.append(str(current_node.value))\n",
    "        current_node = current_node.next\n",
    "    print(elements)\n",
    "\n",
    "display(Head)"
   ]
  },
  {
   "cell_type": "markdown",
   "metadata": {},
   "source": [
    "Searching for an element in a linked list --> O(n)"
   ]
  },
  {
   "cell_type": "code",
   "execution_count": 11,
   "metadata": {},
   "outputs": [
    {
     "name": "stdout",
     "output_type": "stream",
     "text": [
      "False\n",
      "True\n"
     ]
    }
   ],
   "source": [
    "def search(Head, val):\n",
    "\n",
    "    current_node = Head\n",
    "\n",
    "    while current_node:\n",
    "        if val == current_node.value:\n",
    "            return True\n",
    "        \n",
    "        current_node = current_node.next\n",
    "    return False \n",
    "\n",
    "print(search(Head, 2))\n",
    "print(search(Head, 5))"
   ]
  },
  {
   "cell_type": "markdown",
   "metadata": {},
   "source": [
    "Doubly Linked Lists "
   ]
  },
  {
   "cell_type": "code",
   "execution_count": 12,
   "metadata": {},
   "outputs": [],
   "source": [
    "class DoublyNode:\n",
    "    def __init__(self, value, next = None, prev = None):\n",
    "        self.value = value\n",
    "        self.next = next\n",
    "        self.prev = prev\n",
    "    \n",
    "    def __str__(self):\n",
    "        return str(self.value)\n",
    "        "
   ]
  },
  {
   "cell_type": "code",
   "execution_count": 18,
   "metadata": {},
   "outputs": [
    {
     "name": "stdout",
     "output_type": "stream",
     "text": [
      "1\n",
      "5\n"
     ]
    }
   ],
   "source": [
    "head = DoublyNode(1)\n",
    "a = DoublyNode(2)\n",
    "tail = DoublyNode(5)\n",
    "\n",
    "head.next = a\n",
    "a.next = tail \n",
    "\n",
    "\n",
    "tail.prev = a\n",
    "a.prev = head\n",
    "\n",
    "print(head)\n",
    "print(tail)"
   ]
  },
  {
   "cell_type": "markdown",
   "metadata": {},
   "source": [
    "Displaying an element in Doubly Linked List --> O(n)"
   ]
  },
  {
   "cell_type": "code",
   "execution_count": 21,
   "metadata": {},
   "outputs": [
    {
     "name": "stdout",
     "output_type": "stream",
     "text": [
      "1 <--> 2 <--> 5\n",
      "None\n"
     ]
    }
   ],
   "source": [
    "def display(head):\n",
    "    current_node = head\n",
    "    elements = []\n",
    "\n",
    "    while current_node:\n",
    "        elements.append(str(current_node.value))\n",
    "        current_node = current_node.next\n",
    "\n",
    "    print(' <--> '.join(elements))\n",
    "\n",
    "print(display(head))"
   ]
  },
  {
   "cell_type": "markdown",
   "metadata": {},
   "source": [
    "Inserting into a Doubly Linked List --> O(1)"
   ]
  },
  {
   "cell_type": "code",
   "execution_count": 22,
   "metadata": {},
   "outputs": [
    {
     "name": "stdout",
     "output_type": "stream",
     "text": [
      "7 <--> 1 <--> 2 <--> 5\n"
     ]
    }
   ],
   "source": [
    "def Insert_into_Doubly_List(head, tail, val):\n",
    "    new_Node = DoublyNode(val, next = head)\n",
    "    head.prev = new_Node\n",
    "    return new_Node, tail\n",
    "\n",
    "head, tail = Insert_into_Doubly_List(head, tail, 7)\n",
    "display(head)"
   ]
  },
  {
   "cell_type": "markdown",
   "metadata": {},
   "source": [
    "Inserting element at the end of the List --> O(1)"
   ]
  },
  {
   "cell_type": "code",
   "execution_count": 23,
   "metadata": {},
   "outputs": [
    {
     "name": "stdout",
     "output_type": "stream",
     "text": [
      "7 <--> 1 <--> 2 <--> 5 <--> 10\n"
     ]
    }
   ],
   "source": [
    "def inserting_at_the_end(head, tail, val):\n",
    "    new_Node = DoublyNode(val, prev = tail)\n",
    "    tail.next = new_Node\n",
    "    return head, new_Node\n",
    "\n",
    "head, tail = inserting_at_the_end(head, tail, 10)\n",
    "display(head)"
   ]
  },
  {
   "cell_type": "code",
   "execution_count": null,
   "metadata": {},
   "outputs": [],
   "source": []
  }
 ],
 "metadata": {
  "kernelspec": {
   "display_name": "base",
   "language": "python",
   "name": "python3"
  },
  "language_info": {
   "codemirror_mode": {
    "name": "ipython",
    "version": 3
   },
   "file_extension": ".py",
   "mimetype": "text/x-python",
   "name": "python",
   "nbconvert_exporter": "python",
   "pygments_lexer": "ipython3",
   "version": "3.11.5"
  }
 },
 "nbformat": 4,
 "nbformat_minor": 2
}
